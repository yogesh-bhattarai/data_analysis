{
 "cells": [
  {
   "cell_type": "code",
   "execution_count": 2,
   "id": "9c321872",
   "metadata": {},
   "outputs": [],
   "source": [
    "import pandas as pd\n",
    "df= pd.read_csv(r\"C:\\Users\\ASUS\\Desktop\\data_analysis\\project_2\\top-5000-youtube-channels.csv\")"
   ]
  },
  {
   "cell_type": "code",
   "execution_count": 3,
   "id": "e064439b",
   "metadata": {},
   "outputs": [
    {
     "data": {
      "text/html": [
       "<div>\n",
       "<style scoped>\n",
       "    .dataframe tbody tr th:only-of-type {\n",
       "        vertical-align: middle;\n",
       "    }\n",
       "\n",
       "    .dataframe tbody tr th {\n",
       "        vertical-align: top;\n",
       "    }\n",
       "\n",
       "    .dataframe thead th {\n",
       "        text-align: right;\n",
       "    }\n",
       "</style>\n",
       "<table border=\"1\" class=\"dataframe\">\n",
       "  <thead>\n",
       "    <tr style=\"text-align: right;\">\n",
       "      <th></th>\n",
       "      <th>Rank</th>\n",
       "      <th>Grade</th>\n",
       "      <th>Channel name</th>\n",
       "      <th>Video Uploads</th>\n",
       "      <th>Subscribers</th>\n",
       "      <th>Video views</th>\n",
       "    </tr>\n",
       "  </thead>\n",
       "  <tbody>\n",
       "    <tr>\n",
       "      <th>0</th>\n",
       "      <td>1st</td>\n",
       "      <td>A++</td>\n",
       "      <td>Zee TV</td>\n",
       "      <td>82757</td>\n",
       "      <td>18752951</td>\n",
       "      <td>20869786591</td>\n",
       "    </tr>\n",
       "    <tr>\n",
       "      <th>1</th>\n",
       "      <td>2nd</td>\n",
       "      <td>A++</td>\n",
       "      <td>T-Series</td>\n",
       "      <td>12661</td>\n",
       "      <td>61196302</td>\n",
       "      <td>47548839843</td>\n",
       "    </tr>\n",
       "    <tr>\n",
       "      <th>2</th>\n",
       "      <td>3rd</td>\n",
       "      <td>A++</td>\n",
       "      <td>Cocomelon - Nursery Rhymes</td>\n",
       "      <td>373</td>\n",
       "      <td>19238251</td>\n",
       "      <td>9793305082</td>\n",
       "    </tr>\n",
       "    <tr>\n",
       "      <th>3</th>\n",
       "      <td>4th</td>\n",
       "      <td>A++</td>\n",
       "      <td>SET India</td>\n",
       "      <td>27323</td>\n",
       "      <td>31180559</td>\n",
       "      <td>22675948293</td>\n",
       "    </tr>\n",
       "    <tr>\n",
       "      <th>4</th>\n",
       "      <td>5th</td>\n",
       "      <td>A++</td>\n",
       "      <td>WWE</td>\n",
       "      <td>36756</td>\n",
       "      <td>32852346</td>\n",
       "      <td>26273668433</td>\n",
       "    </tr>\n",
       "  </tbody>\n",
       "</table>\n",
       "</div>"
      ],
      "text/plain": [
       "  Rank Grade                Channel name Video Uploads Subscribers  \\\n",
       "0  1st  A++                       Zee TV         82757    18752951   \n",
       "1  2nd  A++                     T-Series         12661    61196302   \n",
       "2  3rd  A++   Cocomelon - Nursery Rhymes           373    19238251   \n",
       "3  4th  A++                    SET India         27323    31180559   \n",
       "4  5th  A++                          WWE         36756    32852346   \n",
       "\n",
       "   Video views  \n",
       "0  20869786591  \n",
       "1  47548839843  \n",
       "2   9793305082  \n",
       "3  22675948293  \n",
       "4  26273668433  "
      ]
     },
     "execution_count": 3,
     "metadata": {},
     "output_type": "execute_result"
    }
   ],
   "source": [
    "df.head()"
   ]
  },
  {
   "cell_type": "code",
   "execution_count": 4,
   "id": "3eee6ca9",
   "metadata": {},
   "outputs": [
    {
     "data": {
      "text/html": [
       "<div>\n",
       "<style scoped>\n",
       "    .dataframe tbody tr th:only-of-type {\n",
       "        vertical-align: middle;\n",
       "    }\n",
       "\n",
       "    .dataframe tbody tr th {\n",
       "        vertical-align: top;\n",
       "    }\n",
       "\n",
       "    .dataframe thead th {\n",
       "        text-align: right;\n",
       "    }\n",
       "</style>\n",
       "<table border=\"1\" class=\"dataframe\">\n",
       "  <thead>\n",
       "    <tr style=\"text-align: right;\">\n",
       "      <th></th>\n",
       "      <th>Rank</th>\n",
       "      <th>Grade</th>\n",
       "      <th>Channel name</th>\n",
       "      <th>Video Uploads</th>\n",
       "      <th>Subscribers</th>\n",
       "      <th>Video views</th>\n",
       "    </tr>\n",
       "  </thead>\n",
       "  <tbody>\n",
       "    <tr>\n",
       "      <th>4995</th>\n",
       "      <td>4,996th</td>\n",
       "      <td>B+</td>\n",
       "      <td>Uras Benlioğlu</td>\n",
       "      <td>706</td>\n",
       "      <td>2072942</td>\n",
       "      <td>441202795</td>\n",
       "    </tr>\n",
       "    <tr>\n",
       "      <th>4996</th>\n",
       "      <td>4,997th</td>\n",
       "      <td>B+</td>\n",
       "      <td>HI-TECH MUSIC LTD</td>\n",
       "      <td>797</td>\n",
       "      <td>1055091</td>\n",
       "      <td>377331722</td>\n",
       "    </tr>\n",
       "    <tr>\n",
       "      <th>4997</th>\n",
       "      <td>4,998th</td>\n",
       "      <td>B+</td>\n",
       "      <td>Mastersaint</td>\n",
       "      <td>110</td>\n",
       "      <td>3265735</td>\n",
       "      <td>311758426</td>\n",
       "    </tr>\n",
       "    <tr>\n",
       "      <th>4998</th>\n",
       "      <td>4,999th</td>\n",
       "      <td>B+</td>\n",
       "      <td>Bruce McIntosh</td>\n",
       "      <td>3475</td>\n",
       "      <td>32990</td>\n",
       "      <td>14563764</td>\n",
       "    </tr>\n",
       "    <tr>\n",
       "      <th>4999</th>\n",
       "      <td>5,000th</td>\n",
       "      <td>B+</td>\n",
       "      <td>SehatAQUA</td>\n",
       "      <td>254</td>\n",
       "      <td>21172</td>\n",
       "      <td>73312511</td>\n",
       "    </tr>\n",
       "  </tbody>\n",
       "</table>\n",
       "</div>"
      ],
      "text/plain": [
       "         Rank Grade       Channel name Video Uploads Subscribers  Video views\n",
       "4995  4,996th   B+      Uras Benlioğlu           706     2072942    441202795\n",
       "4996  4,997th   B+   HI-TECH MUSIC LTD           797     1055091    377331722\n",
       "4997  4,998th   B+         Mastersaint           110     3265735    311758426\n",
       "4998  4,999th   B+      Bruce McIntosh          3475       32990     14563764\n",
       "4999  5,000th   B+           SehatAQUA           254       21172     73312511"
      ]
     },
     "execution_count": 4,
     "metadata": {},
     "output_type": "execute_result"
    }
   ],
   "source": [
    "df.tail()"
   ]
  },
  {
   "cell_type": "code",
   "execution_count": 5,
   "id": "0367524e",
   "metadata": {},
   "outputs": [
    {
     "data": {
      "text/plain": [
       "(5000, 6)"
      ]
     },
     "execution_count": 5,
     "metadata": {},
     "output_type": "execute_result"
    }
   ],
   "source": [
    "df.shape"
   ]
  },
  {
   "cell_type": "code",
   "execution_count": 7,
   "id": "5c10bc8d",
   "metadata": {},
   "outputs": [
    {
     "name": "stdout",
     "output_type": "stream",
     "text": [
      "The rows of the data is 5000\n",
      "The rows of the data is 6\n"
     ]
    }
   ],
   "source": [
    "print('The rows of the data is',df.shape[0])\n",
    "print('The rows of the data is',df.shape[1])"
   ]
  },
  {
   "cell_type": "code",
   "execution_count": 8,
   "id": "a2fbf4d5",
   "metadata": {},
   "outputs": [
    {
     "data": {
      "text/plain": [
       "Index(['Rank', 'Grade', 'Channel name', 'Video Uploads', 'Subscribers',\n",
       "       'Video views'],\n",
       "      dtype='object')"
      ]
     },
     "execution_count": 8,
     "metadata": {},
     "output_type": "execute_result"
    }
   ],
   "source": [
    "df.columns"
   ]
  },
  {
   "cell_type": "code",
   "execution_count": 10,
   "id": "7ae2bb0b",
   "metadata": {},
   "outputs": [
    {
     "data": {
      "text/html": [
       "<div>\n",
       "<style scoped>\n",
       "    .dataframe tbody tr th:only-of-type {\n",
       "        vertical-align: middle;\n",
       "    }\n",
       "\n",
       "    .dataframe tbody tr th {\n",
       "        vertical-align: top;\n",
       "    }\n",
       "\n",
       "    .dataframe thead th {\n",
       "        text-align: right;\n",
       "    }\n",
       "</style>\n",
       "<table border=\"1\" class=\"dataframe\">\n",
       "  <thead>\n",
       "    <tr style=\"text-align: right;\">\n",
       "      <th></th>\n",
       "      <th>Rank</th>\n",
       "      <th>Grade</th>\n",
       "      <th>Channel name</th>\n",
       "      <th>Video Uploads</th>\n",
       "      <th>Subscribers</th>\n",
       "      <th>Video views</th>\n",
       "    </tr>\n",
       "  </thead>\n",
       "  <tbody>\n",
       "    <tr>\n",
       "      <th>0</th>\n",
       "      <td>1st</td>\n",
       "      <td>A++</td>\n",
       "      <td>Zee TV</td>\n",
       "      <td>82757</td>\n",
       "      <td>18752951</td>\n",
       "      <td>20869786591</td>\n",
       "    </tr>\n",
       "  </tbody>\n",
       "</table>\n",
       "</div>"
      ],
      "text/plain": [
       "  Rank Grade Channel name Video Uploads Subscribers  Video views\n",
       "0  1st  A++        Zee TV         82757    18752951  20869786591"
      ]
     },
     "execution_count": 10,
     "metadata": {},
     "output_type": "execute_result"
    }
   ],
   "source": [
    "df.head(1)"
   ]
  },
  {
   "cell_type": "code",
   "execution_count": 15,
   "id": "27332d5e",
   "metadata": {},
   "outputs": [
    {
     "name": "stdout",
     "output_type": "stream",
     "text": [
      "<class 'pandas.core.frame.DataFrame'>\n",
      "RangeIndex: 5000 entries, 0 to 4999\n",
      "Data columns (total 6 columns):\n",
      " #   Column         Non-Null Count  Dtype \n",
      "---  ------         --------------  ----- \n",
      " 0   Rank           5000 non-null   object\n",
      " 1   Grade          5000 non-null   object\n",
      " 2   Channel name   5000 non-null   object\n",
      " 3   Video Uploads  5000 non-null   object\n",
      " 4   Subscribers    5000 non-null   object\n",
      " 5   Video views    5000 non-null   int64 \n",
      "dtypes: int64(1), object(5)\n",
      "memory usage: 234.5+ KB\n"
     ]
    }
   ],
   "source": [
    "df.info()"
   ]
  },
  {
   "cell_type": "code",
   "execution_count": 23,
   "id": "91bec3f6",
   "metadata": {},
   "outputs": [
    {
     "data": {
      "text/html": [
       "<div>\n",
       "<style scoped>\n",
       "    .dataframe tbody tr th:only-of-type {\n",
       "        vertical-align: middle;\n",
       "    }\n",
       "\n",
       "    .dataframe tbody tr th {\n",
       "        vertical-align: top;\n",
       "    }\n",
       "\n",
       "    .dataframe thead th {\n",
       "        text-align: right;\n",
       "    }\n",
       "</style>\n",
       "<table border=\"1\" class=\"dataframe\">\n",
       "  <thead>\n",
       "    <tr style=\"text-align: right;\">\n",
       "      <th></th>\n",
       "      <th>Rank</th>\n",
       "      <th>Grade</th>\n",
       "      <th>Channel name</th>\n",
       "      <th>Video Uploads</th>\n",
       "      <th>Subscribers</th>\n",
       "      <th>Video views</th>\n",
       "    </tr>\n",
       "  </thead>\n",
       "  <tbody>\n",
       "    <tr>\n",
       "      <th>4652</th>\n",
       "      <td>4,653rd</td>\n",
       "      <td>B+</td>\n",
       "      <td>SHORT TIME SECRET</td>\n",
       "      <td>304</td>\n",
       "      <td>3393635</td>\n",
       "      <td>301632051</td>\n",
       "    </tr>\n",
       "    <tr>\n",
       "      <th>290</th>\n",
       "      <td>291st</td>\n",
       "      <td>A</td>\n",
       "      <td>Blippi Toys</td>\n",
       "      <td>107</td>\n",
       "      <td>2358324</td>\n",
       "      <td>1810656447</td>\n",
       "    </tr>\n",
       "    <tr>\n",
       "      <th>394</th>\n",
       "      <td>395th</td>\n",
       "      <td>A</td>\n",
       "      <td>Hasbro</td>\n",
       "      <td>8177</td>\n",
       "      <td>2646160</td>\n",
       "      <td>3506432060</td>\n",
       "    </tr>\n",
       "    <tr>\n",
       "      <th>3951</th>\n",
       "      <td>3,952nd</td>\n",
       "      <td>B+</td>\n",
       "      <td>DIEN QUAN Kids</td>\n",
       "      <td>1896</td>\n",
       "      <td>1146847</td>\n",
       "      <td>1032425167</td>\n",
       "    </tr>\n",
       "    <tr>\n",
       "      <th>727</th>\n",
       "      <td>728th</td>\n",
       "      <td>A</td>\n",
       "      <td>JK YADAV FILMS जे के…</td>\n",
       "      <td>2072</td>\n",
       "      <td>--</td>\n",
       "      <td>562714491</td>\n",
       "    </tr>\n",
       "    <tr>\n",
       "      <th>3528</th>\n",
       "      <td>3,529th</td>\n",
       "      <td>B+</td>\n",
       "      <td>Thiệu Nhất Nguyên</td>\n",
       "      <td>166</td>\n",
       "      <td>705535</td>\n",
       "      <td>94222742</td>\n",
       "    </tr>\n",
       "    <tr>\n",
       "      <th>4756</th>\n",
       "      <td>4,757th</td>\n",
       "      <td>B+</td>\n",
       "      <td>jogodoido1</td>\n",
       "      <td>129</td>\n",
       "      <td>474716</td>\n",
       "      <td>536504703</td>\n",
       "    </tr>\n",
       "    <tr>\n",
       "      <th>646</th>\n",
       "      <td>647th</td>\n",
       "      <td>A</td>\n",
       "      <td>Super Polina Play</td>\n",
       "      <td>121</td>\n",
       "      <td>3965541</td>\n",
       "      <td>643212922</td>\n",
       "    </tr>\n",
       "    <tr>\n",
       "      <th>4611</th>\n",
       "      <td>4,612th</td>\n",
       "      <td>B+</td>\n",
       "      <td>War3Star</td>\n",
       "      <td>78</td>\n",
       "      <td>329597</td>\n",
       "      <td>80575665</td>\n",
       "    </tr>\n",
       "    <tr>\n",
       "      <th>395</th>\n",
       "      <td>396th</td>\n",
       "      <td>A</td>\n",
       "      <td>prenses elif</td>\n",
       "      <td>4313</td>\n",
       "      <td>2450645</td>\n",
       "      <td>3597618217</td>\n",
       "    </tr>\n",
       "  </tbody>\n",
       "</table>\n",
       "</div>"
      ],
      "text/plain": [
       "         Rank Grade           Channel name Video Uploads Subscribers  \\\n",
       "4652  4,653rd   B+       SHORT TIME SECRET           304     3393635   \n",
       "290     291st    A             Blippi Toys           107     2358324   \n",
       "394     395th    A                  Hasbro          8177     2646160   \n",
       "3951  3,952nd   B+          DIEN QUAN Kids          1896     1146847   \n",
       "727     728th    A   JK YADAV FILMS जे के…          2072         --    \n",
       "3528  3,529th   B+       Thiệu Nhất Nguyên           166      705535   \n",
       "4756  4,757th   B+              jogodoido1           129      474716   \n",
       "646     647th    A       Super Polina Play           121     3965541   \n",
       "4611  4,612th   B+                War3Star            78      329597   \n",
       "395     396th    A            prenses elif          4313     2450645   \n",
       "\n",
       "      Video views  \n",
       "4652    301632051  \n",
       "290    1810656447  \n",
       "394    3506432060  \n",
       "3951   1032425167  \n",
       "727     562714491  \n",
       "3528     94222742  \n",
       "4756    536504703  \n",
       "646     643212922  \n",
       "4611     80575665  \n",
       "395    3597618217  "
      ]
     },
     "execution_count": 23,
     "metadata": {},
     "output_type": "execute_result"
    }
   ],
   "source": [
    "df.sample(10)"
   ]
  },
  {
   "cell_type": "code",
   "execution_count": 20,
   "id": "df98790d",
   "metadata": {},
   "outputs": [],
   "source": [
    "import numpy as np"
   ]
  },
  {
   "cell_type": "code",
   "execution_count": 33,
   "id": "faaaf927",
   "metadata": {},
   "outputs": [],
   "source": [
    "df['Subscribers']=df['Subscribers'].replace('--',np.nan,regex=True)"
   ]
  },
  {
   "cell_type": "code",
   "execution_count": 36,
   "id": "1d51eff2",
   "metadata": {},
   "outputs": [
    {
     "data": {
      "text/html": [
       "<div>\n",
       "<style scoped>\n",
       "    .dataframe tbody tr th:only-of-type {\n",
       "        vertical-align: middle;\n",
       "    }\n",
       "\n",
       "    .dataframe tbody tr th {\n",
       "        vertical-align: top;\n",
       "    }\n",
       "\n",
       "    .dataframe thead th {\n",
       "        text-align: right;\n",
       "    }\n",
       "</style>\n",
       "<table border=\"1\" class=\"dataframe\">\n",
       "  <thead>\n",
       "    <tr style=\"text-align: right;\">\n",
       "      <th></th>\n",
       "      <th>Rank</th>\n",
       "      <th>Grade</th>\n",
       "      <th>Channel name</th>\n",
       "      <th>Video Uploads</th>\n",
       "      <th>Subscribers</th>\n",
       "      <th>Video views</th>\n",
       "    </tr>\n",
       "  </thead>\n",
       "  <tbody>\n",
       "    <tr>\n",
       "      <th>2675</th>\n",
       "      <td>2,676th</td>\n",
       "      <td>B+</td>\n",
       "      <td>ดีต่อใจ…</td>\n",
       "      <td>99</td>\n",
       "      <td>63848</td>\n",
       "      <td>19255045</td>\n",
       "    </tr>\n",
       "    <tr>\n",
       "      <th>1165</th>\n",
       "      <td>1,166th</td>\n",
       "      <td>A-</td>\n",
       "      <td>Flamingo</td>\n",
       "      <td>445</td>\n",
       "      <td>1915781</td>\n",
       "      <td>522973512</td>\n",
       "    </tr>\n",
       "    <tr>\n",
       "      <th>3486</th>\n",
       "      <td>3,487th</td>\n",
       "      <td>B+</td>\n",
       "      <td>Pinoy Kids Channel</td>\n",
       "      <td>250</td>\n",
       "      <td>470708</td>\n",
       "      <td>186252284</td>\n",
       "    </tr>\n",
       "    <tr>\n",
       "      <th>3546</th>\n",
       "      <td>3,547th</td>\n",
       "      <td>B+</td>\n",
       "      <td>KaraoKanta Original</td>\n",
       "      <td>3957</td>\n",
       "      <td>383851</td>\n",
       "      <td>416098003</td>\n",
       "    </tr>\n",
       "    <tr>\n",
       "      <th>3831</th>\n",
       "      <td>3,832nd</td>\n",
       "      <td>B+</td>\n",
       "      <td>Bart Baker</td>\n",
       "      <td>324</td>\n",
       "      <td>10163649</td>\n",
       "      <td>3163982431</td>\n",
       "    </tr>\n",
       "    <tr>\n",
       "      <th>3689</th>\n",
       "      <td>3,690th</td>\n",
       "      <td>B+</td>\n",
       "      <td>SodaStereoVEVO</td>\n",
       "      <td>205</td>\n",
       "      <td>591391</td>\n",
       "      <td>701694656</td>\n",
       "    </tr>\n",
       "    <tr>\n",
       "      <th>3691</th>\n",
       "      <td>3,692nd</td>\n",
       "      <td>B+</td>\n",
       "      <td>Lauv</td>\n",
       "      <td>43</td>\n",
       "      <td>864657</td>\n",
       "      <td>239982316</td>\n",
       "    </tr>\n",
       "    <tr>\n",
       "      <th>4165</th>\n",
       "      <td>4,166th</td>\n",
       "      <td>B+</td>\n",
       "      <td>CMV</td>\n",
       "      <td>230</td>\n",
       "      <td>689916</td>\n",
       "      <td>151937725</td>\n",
       "    </tr>\n",
       "    <tr>\n",
       "      <th>834</th>\n",
       "      <td>835th</td>\n",
       "      <td>A</td>\n",
       "      <td>Toy Genie Surprises</td>\n",
       "      <td>2090</td>\n",
       "      <td>5161012</td>\n",
       "      <td>3523137301</td>\n",
       "    </tr>\n",
       "    <tr>\n",
       "      <th>2281</th>\n",
       "      <td>2,282nd</td>\n",
       "      <td>B+</td>\n",
       "      <td>Cheeta Superfine Music</td>\n",
       "      <td>2060</td>\n",
       "      <td>1320569</td>\n",
       "      <td>563969155</td>\n",
       "    </tr>\n",
       "  </tbody>\n",
       "</table>\n",
       "</div>"
      ],
      "text/plain": [
       "         Rank Grade            Channel name Video Uploads Subscribers  \\\n",
       "2675  2,676th   B+                 ดีต่อใจ…            99       63848   \n",
       "1165  1,166th   A-                 Flamingo           445     1915781   \n",
       "3486  3,487th   B+       Pinoy Kids Channel           250      470708   \n",
       "3546  3,547th   B+      KaraoKanta Original          3957      383851   \n",
       "3831  3,832nd   B+               Bart Baker           324    10163649   \n",
       "3689  3,690th   B+           SodaStereoVEVO           205      591391   \n",
       "3691  3,692nd   B+                     Lauv            43      864657   \n",
       "4165  4,166th   B+                      CMV           230      689916   \n",
       "834     835th    A      Toy Genie Surprises          2090     5161012   \n",
       "2281  2,282nd   B+   Cheeta Superfine Music          2060     1320569   \n",
       "\n",
       "      Video views  \n",
       "2675     19255045  \n",
       "1165    522973512  \n",
       "3486    186252284  \n",
       "3546    416098003  \n",
       "3831   3163982431  \n",
       "3689    701694656  \n",
       "3691    239982316  \n",
       "4165    151937725  \n",
       "834    3523137301  \n",
       "2281    563969155  "
      ]
     },
     "execution_count": 36,
     "metadata": {},
     "output_type": "execute_result"
    }
   ],
   "source": [
    "df.sample(10)"
   ]
  },
  {
   "cell_type": "code",
   "execution_count": 37,
   "id": "2657ccd0",
   "metadata": {},
   "outputs": [
    {
     "data": {
      "text/plain": [
       "Rank               0\n",
       "Grade              0\n",
       "Channel name       0\n",
       "Video Uploads      6\n",
       "Subscribers      387\n",
       "Video views        0\n",
       "dtype: int64"
      ]
     },
     "execution_count": 37,
     "metadata": {},
     "output_type": "execute_result"
    }
   ],
   "source": [
    "df.isnull().sum()"
   ]
  },
  {
   "cell_type": "code",
   "execution_count": 38,
   "id": "dd47b8f8",
   "metadata": {},
   "outputs": [
    {
     "data": {
      "text/plain": [
       "<AxesSubplot:>"
      ]
     },
     "execution_count": 38,
     "metadata": {},
     "output_type": "execute_result"
    },
    {
     "data": {
      "image/png": "[encoded data removed]",
      "text/plain": [
       "<Figure size 640x480 with 2 Axes>"
      ]
     },
     "metadata": {},
     "output_type": "display_data"
    }
   ],
   "source": [
    "import seaborn as sns\n",
    "sns.heatmap(df.isnull())"
   ]
  },
  {
   "cell_type": "code",
   "execution_count": 39,
   "id": "561b3700",
   "metadata": {},
   "outputs": [],
   "source": [
    "df.dropna(axis=0,inplace=True)"
   ]
  },
  {
   "cell_type": "code",
   "execution_count": 40,
   "id": "5289016f",
   "metadata": {},
   "outputs": [
    {
     "data": {
      "text/plain": [
       "<AxesSubplot:>"
      ]
     },
     "execution_count": 40,
     "metadata": {},
     "output_type": "execute_result"
    },
    {
     "data": {
      "image/png": "[encoded data removed]",
      "text/plain": [
       "<Figure size 640x480 with 2 Axes>"
      ]
     },
     "metadata": {},
     "output_type": "display_data"
    }
   ],
   "source": [
    "import seaborn as sns\n",
    "sns.heatmap(df.isnull())"
   ]
  },
  {
   "cell_type": "code",
   "execution_count": 50,
   "id": "bac87839",
   "metadata": {},
   "outputs": [],
   "source": [
    "df['Rank']=df['Rank'].str[0:-2]"
   ]
  },
  {
   "cell_type": "code",
   "execution_count": 70,
   "id": "888cd8d2",
   "metadata": {},
   "outputs": [],
   "source": [
    "df['Rank']=df['Rank'].str.replace(',','')"
   ]
  },
  {
   "cell_type": "code",
   "execution_count": 71,
   "id": "4036a7b9",
   "metadata": {},
   "outputs": [
    {
     "data": {
      "text/plain": [
       "2590    25\n",
       "3473    34\n",
       "2319    23\n",
       "1342    13\n",
       "4364    43\n",
       "859      8\n",
       "4365    43\n",
       "819      8\n",
       "853      8\n",
       "3630    36\n",
       "Name: Rank, dtype: object"
      ]
     },
     "execution_count": 71,
     "metadata": {},
     "output_type": "execute_result"
    }
   ],
   "source": [
    "df['Rank'].sample(10)"
   ]
  },
  {
   "cell_type": "code",
   "execution_count": 66,
   "id": "c6629bd7",
   "metadata": {},
   "outputs": [
    {
     "data": {
      "text/plain": [
       "Rank             object\n",
       "Grade            object\n",
       "Channel name     object\n",
       "Video Uploads    object\n",
       "Subscribers      object\n",
       "Video views       int64\n",
       "dtype: object"
      ]
     },
     "execution_count": 66,
     "metadata": {},
     "output_type": "execute_result"
    }
   ],
   "source": [
    "df.dtypes"
   ]
  },
  {
   "cell_type": "code",
   "execution_count": 75,
   "id": "23d2612d",
   "metadata": {},
   "outputs": [
    {
     "data": {
      "text/html": [
       "<div>\n",
       "<style scoped>\n",
       "    .dataframe tbody tr th:only-of-type {\n",
       "        vertical-align: middle;\n",
       "    }\n",
       "\n",
       "    .dataframe tbody tr th {\n",
       "        vertical-align: top;\n",
       "    }\n",
       "\n",
       "    .dataframe thead th {\n",
       "        text-align: right;\n",
       "    }\n",
       "</style>\n",
       "<table border=\"1\" class=\"dataframe\">\n",
       "  <thead>\n",
       "    <tr style=\"text-align: right;\">\n",
       "      <th></th>\n",
       "      <th>Rank</th>\n",
       "      <th>Grade</th>\n",
       "      <th>Channel name</th>\n",
       "      <th>Video Uploads</th>\n",
       "      <th>Subscribers</th>\n",
       "      <th>Video views</th>\n",
       "    </tr>\n",
       "  </thead>\n",
       "  <tbody>\n",
       "    <tr>\n",
       "      <th>2148</th>\n",
       "      <td>21</td>\n",
       "      <td>B+</td>\n",
       "      <td>Mama FLoo</td>\n",
       "      <td>352</td>\n",
       "      <td>102437</td>\n",
       "      <td>32572336</td>\n",
       "    </tr>\n",
       "    <tr>\n",
       "      <th>491</th>\n",
       "      <td>4</td>\n",
       "      <td>A</td>\n",
       "      <td>shane</td>\n",
       "      <td>1724</td>\n",
       "      <td>16966855</td>\n",
       "      <td>4241490038</td>\n",
       "    </tr>\n",
       "    <tr>\n",
       "      <th>3214</th>\n",
       "      <td>32</td>\n",
       "      <td>B+</td>\n",
       "      <td>SuperSofi</td>\n",
       "      <td>462</td>\n",
       "      <td>297114</td>\n",
       "      <td>126302393</td>\n",
       "    </tr>\n",
       "    <tr>\n",
       "      <th>555</th>\n",
       "      <td>5</td>\n",
       "      <td>A</td>\n",
       "      <td>Mr. .X</td>\n",
       "      <td>734</td>\n",
       "      <td>848717</td>\n",
       "      <td>515985070</td>\n",
       "    </tr>\n",
       "    <tr>\n",
       "      <th>3233</th>\n",
       "      <td>32</td>\n",
       "      <td>B+</td>\n",
       "      <td>Panthera Partha</td>\n",
       "      <td>76</td>\n",
       "      <td>567599</td>\n",
       "      <td>130735563</td>\n",
       "    </tr>\n",
       "    <tr>\n",
       "      <th>1076</th>\n",
       "      <td>10</td>\n",
       "      <td>A-</td>\n",
       "      <td>RE -research</td>\n",
       "      <td>158</td>\n",
       "      <td>2535305</td>\n",
       "      <td>558104526</td>\n",
       "    </tr>\n",
       "    <tr>\n",
       "      <th>32</th>\n",
       "      <td></td>\n",
       "      <td>A+</td>\n",
       "      <td>Toys and Colors</td>\n",
       "      <td>127</td>\n",
       "      <td>4746069</td>\n",
       "      <td>2250065105</td>\n",
       "    </tr>\n",
       "    <tr>\n",
       "      <th>4586</th>\n",
       "      <td>45</td>\n",
       "      <td>B+</td>\n",
       "      <td>TRT 1</td>\n",
       "      <td>3614</td>\n",
       "      <td>713273</td>\n",
       "      <td>403060976</td>\n",
       "    </tr>\n",
       "    <tr>\n",
       "      <th>4074</th>\n",
       "      <td>40</td>\n",
       "      <td>B+</td>\n",
       "      <td>Future - Topic</td>\n",
       "      <td>1004</td>\n",
       "      <td>338298</td>\n",
       "      <td>590981966</td>\n",
       "    </tr>\n",
       "    <tr>\n",
       "      <th>800</th>\n",
       "      <td>8</td>\n",
       "      <td>A</td>\n",
       "      <td>ToyMart TV</td>\n",
       "      <td>419</td>\n",
       "      <td>3653959</td>\n",
       "      <td>1754760559</td>\n",
       "    </tr>\n",
       "  </tbody>\n",
       "</table>\n",
       "</div>"
      ],
      "text/plain": [
       "     Rank Grade     Channel name Video Uploads Subscribers  Video views\n",
       "2148   21   B+         Mama FLoo           352      102437     32572336\n",
       "491     4    A             shane          1724    16966855   4241490038\n",
       "3214   32   B+         SuperSofi           462      297114    126302393\n",
       "555     5    A            Mr. .X           734      848717    515985070\n",
       "3233   32   B+   Panthera Partha            76      567599    130735563\n",
       "1076   10   A-      RE -research           158     2535305    558104526\n",
       "32          A+   Toys and Colors           127     4746069   2250065105\n",
       "4586   45   B+             TRT 1          3614      713273    403060976\n",
       "4074   40   B+    Future - Topic          1004      338298    590981966\n",
       "800     8    A        ToyMart TV           419     3653959   1754760559"
      ]
     },
     "execution_count": 75,
     "metadata": {},
     "output_type": "execute_result"
    }
   ],
   "source": [
    "df.sample(10)"
   ]
  },
  {
   "cell_type": "code",
   "execution_count": 76,
   "id": "2f2fcd5e",
   "metadata": {},
   "outputs": [
    {
     "data": {
      "text/plain": [
       "Rank             0\n",
       "Grade            0\n",
       "Channel name     0\n",
       "Video Uploads    0\n",
       "Subscribers      0\n",
       "Video views      0\n",
       "dtype: int64"
      ]
     },
     "execution_count": 76,
     "metadata": {},
     "output_type": "execute_result"
    }
   ],
   "source": [
    "df.isnull().sum()"
   ]
  },
  {
   "cell_type": "code",
   "execution_count": 77,
   "id": "471a3e60",
   "metadata": {},
   "outputs": [],
   "source": [
    "df['Video Uploads']=df['Video Uploads'].astype('int')"
   ]
  },
  {
   "cell_type": "code",
   "execution_count": 78,
   "id": "c10d1580",
   "metadata": {},
   "outputs": [],
   "source": [
    "df['Subscribers']=df['Subscribers'].astype('int')"
   ]
  },
  {
   "cell_type": "code",
   "execution_count": 80,
   "id": "fb5a048c",
   "metadata": {},
   "outputs": [],
   "source": [
    "df['Video views']=df['Video views'].astype('int')"
   ]
  },
  {
   "cell_type": "code",
   "execution_count": 83,
   "id": "96691b5c",
   "metadata": {},
   "outputs": [
    {
     "name": "stdout",
     "output_type": "stream",
     "text": [
      "<class 'pandas.core.frame.DataFrame'>\n",
      "Int64Index: 4610 entries, 0 to 4999\n",
      "Data columns (total 6 columns):\n",
      " #   Column         Non-Null Count  Dtype \n",
      "---  ------         --------------  ----- \n",
      " 0   Rank           4610 non-null   object\n",
      " 1   Grade          4610 non-null   object\n",
      " 2   Channel name   4610 non-null   object\n",
      " 3   Video Uploads  4610 non-null   int32 \n",
      " 4   Subscribers    4610 non-null   int32 \n",
      " 5   Video views    4610 non-null   int32 \n",
      "dtypes: int32(3), object(3)\n",
      "memory usage: 198.1+ KB\n"
     ]
    }
   ],
   "source": [
    "df.info()"
   ]
  },
  {
   "cell_type": "code",
   "execution_count": 84,
   "id": "f9f3e9c7",
   "metadata": {},
   "outputs": [],
   "source": [
    "from sklearn.preprocessing import LabelEncoder"
   ]
  },
  {
   "cell_type": "code",
   "execution_count": 85,
   "id": "4153c6c7",
   "metadata": {},
   "outputs": [],
   "source": [
    "lb= LabelEncoder()"
   ]
  },
  {
   "cell_type": "code",
   "execution_count": 86,
   "id": "5ea2b9fb",
   "metadata": {},
   "outputs": [],
   "source": [
    "df['Grade']=lb.fit_transform(df['Grade'])"
   ]
  },
  {
   "cell_type": "code",
   "execution_count": 89,
   "id": "0be63585",
   "metadata": {},
   "outputs": [
    {
     "data": {
      "text/plain": [
       "array([2, 1, 0, 3, 4])"
      ]
     },
     "execution_count": 89,
     "metadata": {},
     "output_type": "execute_result"
    }
   ],
   "source": [
    "df['Grade'].unique()"
   ]
  },
  {
   "cell_type": "code",
   "execution_count": 91,
   "id": "0f4fc9db",
   "metadata": {},
   "outputs": [
    {
     "data": {
      "text/html": [
       "<div>\n",
       "<style scoped>\n",
       "    .dataframe tbody tr th:only-of-type {\n",
       "        vertical-align: middle;\n",
       "    }\n",
       "\n",
       "    .dataframe tbody tr th {\n",
       "        vertical-align: top;\n",
       "    }\n",
       "\n",
       "    .dataframe thead th {\n",
       "        text-align: right;\n",
       "    }\n",
       "</style>\n",
       "<table border=\"1\" class=\"dataframe\">\n",
       "  <thead>\n",
       "    <tr style=\"text-align: right;\">\n",
       "      <th></th>\n",
       "      <th>Rank</th>\n",
       "      <th>Grade</th>\n",
       "      <th>Channel name</th>\n",
       "      <th>Video Uploads</th>\n",
       "      <th>Subscribers</th>\n",
       "      <th>Video views</th>\n",
       "    </tr>\n",
       "  </thead>\n",
       "  <tbody>\n",
       "    <tr>\n",
       "      <th>2817</th>\n",
       "      <td>28</td>\n",
       "      <td>4</td>\n",
       "      <td>豪記唱片 HCM Music</td>\n",
       "      <td>2603</td>\n",
       "      <td>373099</td>\n",
       "      <td>701132737</td>\n",
       "    </tr>\n",
       "    <tr>\n",
       "      <th>2158</th>\n",
       "      <td>21</td>\n",
       "      <td>4</td>\n",
       "      <td>Disney Junior Israel</td>\n",
       "      <td>855</td>\n",
       "      <td>300097</td>\n",
       "      <td>176353663</td>\n",
       "    </tr>\n",
       "    <tr>\n",
       "      <th>1954</th>\n",
       "      <td>19</td>\n",
       "      <td>3</td>\n",
       "      <td>PhonePe</td>\n",
       "      <td>72</td>\n",
       "      <td>12711</td>\n",
       "      <td>613379396</td>\n",
       "    </tr>\n",
       "    <tr>\n",
       "      <th>1181</th>\n",
       "      <td>11</td>\n",
       "      <td>3</td>\n",
       "      <td>Kuplinov ► Play</td>\n",
       "      <td>4588</td>\n",
       "      <td>5422655</td>\n",
       "      <td>2088890389</td>\n",
       "    </tr>\n",
       "    <tr>\n",
       "      <th>583</th>\n",
       "      <td>5</td>\n",
       "      <td>0</td>\n",
       "      <td>Life of Sammie</td>\n",
       "      <td>41</td>\n",
       "      <td>2029968</td>\n",
       "      <td>605160228</td>\n",
       "    </tr>\n",
       "    <tr>\n",
       "      <th>668</th>\n",
       "      <td>6</td>\n",
       "      <td>0</td>\n",
       "      <td>KOLLYWOOD MOVIES</td>\n",
       "      <td>90</td>\n",
       "      <td>177222</td>\n",
       "      <td>57915194</td>\n",
       "    </tr>\n",
       "    <tr>\n",
       "      <th>1123</th>\n",
       "      <td>11</td>\n",
       "      <td>3</td>\n",
       "      <td>CarlosVivesVEVO</td>\n",
       "      <td>96</td>\n",
       "      <td>3314192</td>\n",
       "      <td>-1401787819</td>\n",
       "    </tr>\n",
       "    <tr>\n",
       "      <th>3612</th>\n",
       "      <td>36</td>\n",
       "      <td>4</td>\n",
       "      <td>TOSHKENT OVOZI</td>\n",
       "      <td>93</td>\n",
       "      <td>53728</td>\n",
       "      <td>17218717</td>\n",
       "    </tr>\n",
       "    <tr>\n",
       "      <th>2380</th>\n",
       "      <td>23</td>\n",
       "      <td>4</td>\n",
       "      <td>متع عقلك</td>\n",
       "      <td>1155</td>\n",
       "      <td>4998369</td>\n",
       "      <td>897660816</td>\n",
       "    </tr>\n",
       "    <tr>\n",
       "      <th>2141</th>\n",
       "      <td>21</td>\n",
       "      <td>4</td>\n",
       "      <td>ShowBusiness</td>\n",
       "      <td>123</td>\n",
       "      <td>539817</td>\n",
       "      <td>281582684</td>\n",
       "    </tr>\n",
       "  </tbody>\n",
       "</table>\n",
       "</div>"
      ],
      "text/plain": [
       "     Rank  Grade          Channel name  Video Uploads  Subscribers  \\\n",
       "2817   28      4        豪記唱片 HCM Music           2603       373099   \n",
       "2158   21      4  Disney Junior Israel            855       300097   \n",
       "1954   19      3               PhonePe             72        12711   \n",
       "1181   11      3       Kuplinov ► Play           4588      5422655   \n",
       "583     5      0        Life of Sammie             41      2029968   \n",
       "668     6      0      KOLLYWOOD MOVIES             90       177222   \n",
       "1123   11      3       CarlosVivesVEVO             96      3314192   \n",
       "3612   36      4        TOSHKENT OVOZI             93        53728   \n",
       "2380   23      4              متع عقلك           1155      4998369   \n",
       "2141   21      4          ShowBusiness            123       539817   \n",
       "\n",
       "      Video views  \n",
       "2817    701132737  \n",
       "2158    176353663  \n",
       "1954    613379396  \n",
       "1181   2088890389  \n",
       "583     605160228  \n",
       "668      57915194  \n",
       "1123  -1401787819  \n",
       "3612     17218717  \n",
       "2380    897660816  \n",
       "2141    281582684  "
      ]
     },
     "execution_count": 91,
     "metadata": {},
     "output_type": "execute_result"
    }
   ],
   "source": [
    "df.sample(10)"
   ]
  },
  {
   "cell_type": "code",
   "execution_count": 96,
   "id": "f9f203b8",
   "metadata": {},
   "outputs": [
    {
     "data": {
      "text/html": [
       "<div>\n",
       "<style scoped>\n",
       "    .dataframe tbody tr th:only-of-type {\n",
       "        vertical-align: middle;\n",
       "    }\n",
       "\n",
       "    .dataframe tbody tr th {\n",
       "        vertical-align: top;\n",
       "    }\n",
       "\n",
       "    .dataframe thead th {\n",
       "        text-align: right;\n",
       "    }\n",
       "</style>\n",
       "<table border=\"1\" class=\"dataframe\">\n",
       "  <thead>\n",
       "    <tr style=\"text-align: right;\">\n",
       "      <th></th>\n",
       "      <th>Rank</th>\n",
       "      <th>Grade</th>\n",
       "      <th>Channel name</th>\n",
       "      <th>Video Uploads</th>\n",
       "      <th>Subscribers</th>\n",
       "      <th>Video views</th>\n",
       "    </tr>\n",
       "  </thead>\n",
       "  <tbody>\n",
       "    <tr>\n",
       "      <th>1470</th>\n",
       "      <td>14</td>\n",
       "      <td>3</td>\n",
       "      <td>PewDiePie</td>\n",
       "      <td>3601</td>\n",
       "      <td>65995310</td>\n",
       "      <td>1504760819</td>\n",
       "    </tr>\n",
       "    <tr>\n",
       "      <th>1</th>\n",
       "      <td></td>\n",
       "      <td>2</td>\n",
       "      <td>T-Series</td>\n",
       "      <td>12661</td>\n",
       "      <td>61196302</td>\n",
       "      <td>304199587</td>\n",
       "    </tr>\n",
       "    <tr>\n",
       "      <th>11</th>\n",
       "      <td></td>\n",
       "      <td>1</td>\n",
       "      <td>Canal KondZilla</td>\n",
       "      <td>822</td>\n",
       "      <td>39409726</td>\n",
       "      <td>2111165283</td>\n",
       "    </tr>\n",
       "    <tr>\n",
       "      <th>174</th>\n",
       "      <td>1</td>\n",
       "      <td>0</td>\n",
       "      <td>Dude Perfect</td>\n",
       "      <td>185</td>\n",
       "      <td>34489432</td>\n",
       "      <td>1801014315</td>\n",
       "    </tr>\n",
       "    <tr>\n",
       "      <th>3222</th>\n",
       "      <td>32</td>\n",
       "      <td>4</td>\n",
       "      <td>HolaSoyGerman.</td>\n",
       "      <td>137</td>\n",
       "      <td>34480357</td>\n",
       "      <td>-677382845</td>\n",
       "    </tr>\n",
       "    <tr>\n",
       "      <th>...</th>\n",
       "      <td>...</td>\n",
       "      <td>...</td>\n",
       "      <td>...</td>\n",
       "      <td>...</td>\n",
       "      <td>...</td>\n",
       "      <td>...</td>\n",
       "    </tr>\n",
       "    <tr>\n",
       "      <th>2287</th>\n",
       "      <td>22</td>\n",
       "      <td>4</td>\n",
       "      <td>Christian Nodal - Topic</td>\n",
       "      <td>30</td>\n",
       "      <td>471</td>\n",
       "      <td>17868274</td>\n",
       "    </tr>\n",
       "    <tr>\n",
       "      <th>3160</th>\n",
       "      <td>31</td>\n",
       "      <td>4</td>\n",
       "      <td>Ron Funches - Topic</td>\n",
       "      <td>21</td>\n",
       "      <td>453</td>\n",
       "      <td>13932203</td>\n",
       "    </tr>\n",
       "    <tr>\n",
       "      <th>3516</th>\n",
       "      <td>35</td>\n",
       "      <td>4</td>\n",
       "      <td>Jianpeng Li</td>\n",
       "      <td>232</td>\n",
       "      <td>437</td>\n",
       "      <td>70635195</td>\n",
       "    </tr>\n",
       "    <tr>\n",
       "      <th>92</th>\n",
       "      <td></td>\n",
       "      <td>0</td>\n",
       "      <td>hairong zheng</td>\n",
       "      <td>492</td>\n",
       "      <td>394</td>\n",
       "      <td>254252482</td>\n",
       "    </tr>\n",
       "    <tr>\n",
       "      <th>4096</th>\n",
       "      <td>40</td>\n",
       "      <td>4</td>\n",
       "      <td>Xiaomi France</td>\n",
       "      <td>17</td>\n",
       "      <td>301</td>\n",
       "      <td>12943662</td>\n",
       "    </tr>\n",
       "  </tbody>\n",
       "</table>\n",
       "<p>4610 rows × 6 columns</p>\n",
       "</div>"
      ],
      "text/plain": [
       "     Rank  Grade             Channel name  Video Uploads  Subscribers  \\\n",
       "1470   14      3                PewDiePie           3601     65995310   \n",
       "1              2                 T-Series          12661     61196302   \n",
       "11             1          Canal KondZilla            822     39409726   \n",
       "174     1      0             Dude Perfect            185     34489432   \n",
       "3222   32      4           HolaSoyGerman.            137     34480357   \n",
       "...   ...    ...                      ...            ...          ...   \n",
       "2287   22      4  Christian Nodal - Topic             30          471   \n",
       "3160   31      4      Ron Funches - Topic             21          453   \n",
       "3516   35      4              Jianpeng Li            232          437   \n",
       "92             0            hairong zheng            492          394   \n",
       "4096   40      4            Xiaomi France             17          301   \n",
       "\n",
       "      Video views  \n",
       "1470   1504760819  \n",
       "1       304199587  \n",
       "11     2111165283  \n",
       "174    1801014315  \n",
       "3222   -677382845  \n",
       "...           ...  \n",
       "2287     17868274  \n",
       "3160     13932203  \n",
       "3516     70635195  \n",
       "92      254252482  \n",
       "4096     12943662  \n",
       "\n",
       "[4610 rows x 6 columns]"
      ]
     },
     "execution_count": 96,
     "metadata": {},
     "output_type": "execute_result"
    }
   ],
   "source": [
    "df.sort_values(by='Subscribers',ascending=False)"
   ]
  },
  {
   "cell_type": "code",
   "execution_count": null,
   "id": "527a930e",
   "metadata": {},
   "outputs": [],
   "source": []
  },
  {
   "cell_type": "code",
   "execution_count": 99,
   "id": "be766a1f",
   "metadata": {},
   "outputs": [
    {
     "data": {
      "text/plain": [
       "<AxesSubplot:xlabel='Grade', ylabel='Subscribers'>"
      ]
     },
     "execution_count": 99,
     "metadata": {},
     "output_type": "execute_result"
    },
    {
     "data": {
      "image/png": "[encoded data removed]",
      "text/plain": [
       "<Figure size 640x480 with 1 Axes>"
      ]
     },
     "metadata": {},
     "output_type": "display_data"
    }
   ],
   "source": [
    "sns.barplot(x='Grade',y='Subscribers',data=df)"
   ]
  },
  {
   "cell_type": "code",
   "execution_count": 101,
   "id": "8d0fef96",
   "metadata": {},
   "outputs": [
    {
     "data": {
      "text/html": [
       "<div>\n",
       "<style scoped>\n",
       "    .dataframe tbody tr th:only-of-type {\n",
       "        vertical-align: middle;\n",
       "    }\n",
       "\n",
       "    .dataframe tbody tr th {\n",
       "        vertical-align: top;\n",
       "    }\n",
       "\n",
       "    .dataframe thead th {\n",
       "        text-align: right;\n",
       "    }\n",
       "</style>\n",
       "<table border=\"1\" class=\"dataframe\">\n",
       "  <thead>\n",
       "    <tr style=\"text-align: right;\">\n",
       "      <th></th>\n",
       "      <th>Grade</th>\n",
       "      <th>Video Uploads</th>\n",
       "      <th>Subscribers</th>\n",
       "      <th>Video views</th>\n",
       "    </tr>\n",
       "  </thead>\n",
       "  <tbody>\n",
       "    <tr>\n",
       "      <th>Grade</th>\n",
       "      <td>1.000000</td>\n",
       "      <td>-0.066017</td>\n",
       "      <td>-0.378638</td>\n",
       "      <td>0.034501</td>\n",
       "    </tr>\n",
       "    <tr>\n",
       "      <th>Video Uploads</th>\n",
       "      <td>-0.066017</td>\n",
       "      <td>1.000000</td>\n",
       "      <td>0.011362</td>\n",
       "      <td>0.004439</td>\n",
       "    </tr>\n",
       "    <tr>\n",
       "      <th>Subscribers</th>\n",
       "      <td>-0.378638</td>\n",
       "      <td>0.011362</td>\n",
       "      <td>1.000000</td>\n",
       "      <td>-0.060733</td>\n",
       "    </tr>\n",
       "    <tr>\n",
       "      <th>Video views</th>\n",
       "      <td>0.034501</td>\n",
       "      <td>0.004439</td>\n",
       "      <td>-0.060733</td>\n",
       "      <td>1.000000</td>\n",
       "    </tr>\n",
       "  </tbody>\n",
       "</table>\n",
       "</div>"
      ],
      "text/plain": [
       "                  Grade  Video Uploads  Subscribers  Video views\n",
       "Grade          1.000000      -0.066017    -0.378638     0.034501\n",
       "Video Uploads -0.066017       1.000000     0.011362     0.004439\n",
       "Subscribers   -0.378638       0.011362     1.000000    -0.060733\n",
       "Video views    0.034501       0.004439    -0.060733     1.000000"
      ]
     },
     "execution_count": 101,
     "metadata": {},
     "output_type": "execute_result"
    }
   ],
   "source": [
    "df.corr()"
   ]
  },
  {
   "cell_type": "code",
   "execution_count": 102,
   "id": "aab1144b",
   "metadata": {},
   "outputs": [
    {
     "data": {
      "text/plain": [
       "<AxesSubplot:xlabel='Grade', ylabel='Video views'>"
      ]
     },
     "execution_count": 102,
     "metadata": {},
     "output_type": "execute_result"
    },
    {
     "data": {
      "image/png": "[encoded data removed]",
      "text/plain": [
       "<Figure size 640x480 with 1 Axes>"
      ]
     },
     "metadata": {},
     "output_type": "display_data"
    }
   ],
   "source": [
    "sns.barplot(x='Grade',y='Video views',data=df)"
   ]
  },
  {
   "cell_type": "code",
   "execution_count": 103,
   "id": "78a9d50f",
   "metadata": {},
   "outputs": [
    {
     "data": {
      "text/plain": [
       "<AxesSubplot:xlabel='Grade', ylabel='Video Uploads'>"
      ]
     },
     "execution_count": 103,
     "metadata": {},
     "output_type": "execute_result"
    },
    {
     "data": {
      "image/png": "[encoded data removed]",
      "text/plain": [
       "<Figure size 640x480 with 1 Axes>"
      ]
     },
     "metadata": {},
     "output_type": "display_data"
    }
   ],
   "source": [
    "sns.barplot(x='Grade',y='Video Uploads',data=df)"
   ]
  },
  {
   "cell_type": "code",
   "execution_count": null,
   "id": "fe9a6709",
   "metadata": {},
   "outputs": [],
   "source": []
  }
 ],
 "metadata": {
  "kernelspec": {
   "display_name": "Python 3 (ipykernel)",
   "language": "python",
   "name": "python3"
  },
  "language_info": {
   "codemirror_mode": {
    "name": "ipython",
    "version": 3
   },
   "file_extension": ".py",
   "mimetype": "text/x-python",
   "name": "python",
   "nbconvert_exporter": "python",
   "pygments_lexer": "ipython3",
   "version": "3.9.13"
  }
 },
 "nbformat": 4,
 "nbformat_minor": 5
}
